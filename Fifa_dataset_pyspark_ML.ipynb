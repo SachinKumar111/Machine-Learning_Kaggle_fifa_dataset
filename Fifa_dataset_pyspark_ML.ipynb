{
  "nbformat": 4,
  "nbformat_minor": 0,
  "metadata": {
    "colab": {
      "name": "Fifa_dataset_pyspark_ML.ipynb",
      "provenance": [],
      "collapsed_sections": [],
      "toc_visible": true
    },
    "kernelspec": {
      "display_name": "Python 3",
      "language": "python",
      "name": "python3"
    },
    "language_info": {
      "codemirror_mode": {
        "name": "ipython",
        "version": 3
      },
      "file_extension": ".py",
      "mimetype": "text/x-python",
      "name": "python",
      "nbconvert_exporter": "python",
      "pygments_lexer": "ipython3",
      "version": "3.7.3"
    }
  },
  "cells": [
    {
      "cell_type": "code",
      "metadata": {
        "id": "mbbV_ES3zlXr",
        "colab_type": "code",
        "colab": {
          "base_uri": "https://localhost:8080/",
          "height": 121
        },
        "outputId": "fc2299f7-5f62-46a5-ad22-850552467c7e"
      },
      "source": [
        "from google.colab import drive\n",
        "drive.mount('/content/drive')"
      ],
      "execution_count": null,
      "outputs": [
        {
          "output_type": "stream",
          "text": [
            "Go to this URL in a browser: https://accounts.google.com/o/oauth2/auth?client_id=947318989803-6bn6qk8qdgf4n4g3pfee6491hc0brc4i.apps.googleusercontent.com&redirect_uri=urn%3aietf%3awg%3aoauth%3a2.0%3aoob&response_type=code&scope=email%20https%3a%2f%2fwww.googleapis.com%2fauth%2fdocs.test%20https%3a%2f%2fwww.googleapis.com%2fauth%2fdrive%20https%3a%2f%2fwww.googleapis.com%2fauth%2fdrive.photos.readonly%20https%3a%2f%2fwww.googleapis.com%2fauth%2fpeopleapi.readonly\n",
            "\n",
            "Enter your authorization code:\n",
            "··········\n",
            "Mounted at /content/drive\n"
          ],
          "name": "stdout"
        }
      ]
    },
    {
      "cell_type": "code",
      "metadata": {
        "colab_type": "code",
        "id": "auVRAscVRVrI",
        "colab": {
          "base_uri": "https://localhost:8080/",
          "height": 168
        },
        "outputId": "8465f69a-6019-494f-a2d9-738d68308b37"
      },
      "source": [
        "!pip install wget\n",
        "!apt-get install openjdk-8-jdk-headless -qq > /dev/null\n",
        "!wget -q https://archive.apache.org/dist/spark/spark-2.4.0/spark-2.4.0-bin-hadoop2.7.tgz\n",
        "!tar xf spark-2.4.0-bin-hadoop2.7.tgz\n",
        "!pip install -q findspark\n",
        "import os,wget\n",
        "os.environ[\"JAVA_HOME\"] = \"/usr/lib/jvm/java-8-openjdk-amd64\"\n",
        "os.environ[\"SPARK_HOME\"] = \"/content/spark-2.4.0-bin-hadoop2.7\"\n",
        "\n",
        "\n",
        "link_to_data = 'https://github.com/tulip-lab/sit742/raw/master/Assessment/2020/data/2020T2Data.csv'\n",
        "DataSet = wget.download(link_to_data)"
      ],
      "execution_count": null,
      "outputs": [
        {
          "output_type": "stream",
          "text": [
            "Collecting wget\n",
            "  Downloading https://files.pythonhosted.org/packages/47/6a/62e288da7bcda82b935ff0c6cfe542970f04e29c756b0e147251b2fb251f/wget-3.2.zip\n",
            "Building wheels for collected packages: wget\n",
            "  Building wheel for wget (setup.py) ... \u001b[?25l\u001b[?25hdone\n",
            "  Created wheel for wget: filename=wget-3.2-cp36-none-any.whl size=9682 sha256=6065e8e4d786b00ec4bf2399b80d50b750a6e8d718d06469707d1909e2b65378\n",
            "  Stored in directory: /root/.cache/pip/wheels/40/15/30/7d8f7cea2902b4db79e3fea550d7d7b85ecb27ef992b618f3f\n",
            "Successfully built wget\n",
            "Installing collected packages: wget\n",
            "Successfully installed wget-3.2\n"
          ],
          "name": "stdout"
        }
      ]
    },
    {
      "cell_type": "markdown",
      "metadata": {
        "id": "0LHf_6KcZ0UR",
        "colab_type": "text"
      },
      "source": [
        "#FIFA 19 Data set exploration using pyspark"
      ]
    },
    {
      "cell_type": "code",
      "metadata": {
        "colab_type": "code",
        "id": "3Gxm5nc6Rz-a",
        "colab": {}
      },
      "source": [
        "import findspark\n",
        "findspark.init()\n",
        "from pyspark.sql import SparkSession"
      ],
      "execution_count": null,
      "outputs": []
    },
    {
      "cell_type": "code",
      "metadata": {
        "colab_type": "code",
        "id": "uuGY6lgWR7B3",
        "colab": {
          "base_uri": "https://localhost:8080/",
          "height": 54
        },
        "outputId": "df573f0b-a8d4-4b98-b36c-d4f8db53f9c0"
      },
      "source": [
        "# Import the '2020T2Data.csv' as a Spark dataframe and name it as df\n",
        "spark = SparkSession.builder.appName('SIT742T2').getOrCreate()\n",
        "\n",
        "# Your Code \n",
        "df= spark.read.load(\"2020T2Data.csv\", format=\"csv\", header=\"true\", inferSchema=\"true\")\n",
        "df.head()"
      ],
      "execution_count": null,
      "outputs": [
        {
          "output_type": "execute_result",
          "data": {
            "text/plain": [
              "Row(ID=158023, Name='L. Messi', Age=31, Photo='https://cdn.sofifa.org/players/4/19/158023.png', Nationality='Argentina', Flag='https://cdn.sofifa.org/flags/52.png', Overall=94, Potential=94, Club='FC Barcelona', Club Logo='https://cdn.sofifa.org/teams/2/light/241.png', value(M)='110.5', wage(K)=565, Special=2202, Preferred Foot='Left', International Reputation=5, Weak Foot=4, Skill Moves=4, Work Rate='Medium/ Medium', Body Type='Messi', Real Face='Yes', Position='RF', Jersey Number=10, Joined='Jul 1, 2004', Loaned From=None, Contract Valid Until='2021', Height=5.7, Height(CM)=173.736, Weight=159.0, Weight(KG)=72.121128, Crossing=84, Finishing=95, HeadingAccuracy=70, ShortPassing=90, Volleys=86, Dribbling=97, Curve=93, FKAccuracy=94, LongPassing=87, BallControl=96, Acceleration=91, SprintSpeed=86, Agility=91, Reactions=95, Balance=95, ShotPower=85, Jumping=68, Stamina=72, Strength=59, LongShots=94, Aggression=48, Interceptions=22, Positioning=94, Vision=94, Penalties=75, Composure=96, Marking=33, StandingTackle=28, SlidingTackle=26, GKDiving=6, GKHandling=11, GKKicking=15, GKPositioning=14, GKReflexes=8, Release Clause(M)='226.5')"
            ]
          },
          "metadata": {
            "tags": []
          },
          "execution_count": 4
        }
      ]
    },
    {
      "cell_type": "code",
      "metadata": {
        "colab_type": "code",
        "id": "mdWVric-aY-h",
        "colab": {
          "base_uri": "https://localhost:8080/",
          "height": 67
        },
        "outputId": "c7bb9c0f-7bcd-4f00-de21-5cc0e6a288ba"
      },
      "source": [
        "from pyspark.sql import functions as F\n",
        "\n",
        "#Your code for statistics on Age\n",
        "Age_min=df.agg({\"Age\": \"min\"}).collect()[0]\n",
        "Age_max=df.agg({\"Age\": \"max\"}).collect()[0]\n",
        "Age_mean=df.agg({\"Age\": \"avg\"}).collect()[0]\n",
        "print(\"Minimum value of Age \",Age_min[\"min(Age)\"])\n",
        "print(\"Maximum value of Age \",Age_max[\"max(Age)\"])\n",
        "print(\"Mean value of Age \",Age_mean[\"avg(Age)\"])"
      ],
      "execution_count": null,
      "outputs": [
        {
          "output_type": "stream",
          "text": [
            "Minimum value of Age  16\n",
            "Maximum value of Age  45\n",
            "Mean value of Age  25.122205745043114\n"
          ],
          "name": "stdout"
        }
      ]
    },
    {
      "cell_type": "code",
      "metadata": {
        "colab_type": "code",
        "id": "-KMLB3sAfkpK",
        "colab": {
          "base_uri": "https://localhost:8080/",
          "height": 67
        },
        "outputId": "e62c5890-5451-4cd1-dbf5-9f092be7cf4f"
      },
      "source": [
        "#Your Code for statistics on Overall\n",
        "Overall_min=df.agg({\"Overall\": \"min\"}).collect()[0]\n",
        "Overall_max=df.agg({\"Overall\": \"max\"}).collect()[0]\n",
        "Overall_mean=df.agg({\"Overall\": \"avg\"}).collect()[0]\n",
        "print(\"Minimum value of Overall \",Overall_min[\"min(Overall)\"])\n",
        "print(\"Maximum value of Overall \",Overall_max[\"max(Overall)\"])\n",
        "print(\"Mean value of Overall \",Overall_mean[\"avg(Overall)\"])\n"
      ],
      "execution_count": null,
      "outputs": [
        {
          "output_type": "stream",
          "text": [
            "Minimum value of Overall  46\n",
            "Maximum value of Overall  94\n",
            "Mean value of Overall  66.23869940132916\n"
          ],
          "name": "stdout"
        }
      ]
    },
    {
      "cell_type": "code",
      "metadata": {
        "colab_type": "code",
        "id": "S4SMaNc4gX3E",
        "colab": {
          "base_uri": "https://localhost:8080/",
          "height": 34
        },
        "outputId": "284a820b-f2fa-4a95-9403-c17eb897acc8"
      },
      "source": [
        "#Your Code for the position having highest Avg Overall  \n",
        "\n",
        "df.createOrReplaceTempView(\"FIFA\")\n",
        "spark.sql(\"SELECT Position, avg(Overall) AS Overall_avg FROM FIFA GROUP BY Position ORDER BY Overall_avg DESC\").collect()[0]\n"
      ],
      "execution_count": null,
      "outputs": [
        {
          "output_type": "execute_result",
          "data": {
            "text/plain": [
              "Row(Position='LF', Overall_avg=73.86666666666666)"
            ]
          },
          "metadata": {
            "tags": []
          },
          "execution_count": 7
        }
      ]
    },
    {
      "cell_type": "code",
      "metadata": {
        "colab_type": "code",
        "id": "B6PYyigEjZwI",
        "colab": {
          "base_uri": "https://localhost:8080/",
          "height": 67
        },
        "outputId": "19b08cbc-df88-4a8d-f39b-3f8287302bf6"
      },
      "source": [
        "#Your Code to output top 3 countries with highest Avg Overall\n",
        "spark.sql(\"SELECT Nationality, avg(Overall) AS Overall_avg FROM FIFA GROUP BY Nationality ORDER BY Overall_avg DESC LIMIT 3\").collect()\n"
      ],
      "execution_count": null,
      "outputs": [
        {
          "output_type": "execute_result",
          "data": {
            "text/plain": [
              "[Row(Nationality='United Arab Emirates', Overall_avg=77.0),\n",
              " Row(Nationality='Central African Rep.', Overall_avg=73.33333333333333),\n",
              " Row(Nationality='Israel', Overall_avg=72.14285714285714)]"
            ]
          },
          "metadata": {
            "tags": []
          },
          "execution_count": 8
        }
      ]
    },
    {
      "cell_type": "code",
      "metadata": {
        "colab_type": "code",
        "id": "R1RsTYgImPFD",
        "colab": {
          "base_uri": "https://localhost:8080/",
          "height": 390
        },
        "outputId": "712aae32-1fc9-46a9-e1a7-4a12b457e3b4"
      },
      "source": [
        "#Your code for the results on Avg Potentials on Country by Position with ordering the results on country by alphabet (show top 10)\n",
        "\n",
        "import numpy as np\n",
        "pivot_df=df.groupby([\"Nationality\"]).pivot(\"Position\").agg(F.avg(\"Potential\"))\n",
        "\n",
        "#Lastly, you will need to order the results by alphabet.\n",
        "\n",
        "pivot_df.orderBy(\"Nationality\").limit(10).show()\n",
        "\n",
        "#Your Code to identify the position having highest Avg Potential for Australia\n",
        "\n",
        "spark.sql(\"SELECT Position, Avg(Potential) as Potential_Average from FIFA WHERE Nationality='Australia' GROUP BY Position ORDER BY Potential_Average DESC LIMIT 1\").show()"
      ],
      "execution_count": null,
      "outputs": [
        {
          "output_type": "stream",
          "text": [
            "+-----------------+----+-----------------+-----------------+-----------------+----+-----------------+-----------------+----+-----------------+-----------------+-----------------+-----------------+----+-----------------+-----------------+-----------------+-----+----+-----------------+-----------------+-----------------+-----------------+----+-----------------+-----------------+-----------------+----+-----------------+\n",
            "|      Nationality|null|              CAM|               CB|              CDM|  CF|               CM|               GK| LAM|               LB|              LCB|              LCM|              LDM|  LF|               LM|               LS|               LW|  LWB| RAM|               RB|              RCB|              RCM|              RDM|  RF|               RM|               RS|               RW| RWB|               ST|\n",
            "+-----------------+----+-----------------+-----------------+-----------------+----+-----------------+-----------------+----+-----------------+-----------------+-----------------+-----------------+----+-----------------+-----------------+-----------------+-----+----+-----------------+-----------------+-----------------+-----------------+----+-----------------+-----------------+-----------------+----+-----------------+\n",
            "|      Afghanistan|null|             66.0|             null|             null|null|             71.0|             null|null|             64.0|             null|             null|             null|null|             70.0|             null|             null| null|null|             null|             null|             null|             null|null|             null|             null|             null|null|             null|\n",
            "|          Albania|70.0|            70.75|74.33333333333333|             69.5|null|            71.75|             77.5|null|             66.0|             null|             71.0|72.66666666666667|null|73.66666666666667|             null|             64.0| null|null|             75.0|             68.0|             75.0|             null|null|             64.0|             71.0|             72.5|null|            72.25|\n",
            "|          Algeria|null|            74.25|             69.5|            70.25|null|77.66666666666667|             67.6|null|            73.75|             69.0|             76.0|             73.0|null|74.66666666666667|             null|73.66666666666667| null|null|             63.0|             74.5|             76.0|71.33333333333333|null|            74.75|             null|             76.6|82.0|            73.75|\n",
            "|          Andorra|null|             null|             64.0|             null|null|             null|             null|null|             null|             null|             null|             null|null|             null|             null|             null| null|null|             null|             null|             null|             null|null|             null|             null|             null|null|             null|\n",
            "|           Angola|null|             null|             79.0|             null|null|             null|             null|null|             75.0|             72.0|             null|             null|null|             72.0|             null|             70.5| null|null|             null|             65.0|             null|             null|null|             68.0|             66.0|             null|null|75.66666666666667|\n",
            "|Antigua & Barbuda|null|             null|             null|             null|null|             null|             null|null|             null|             null|             null|             null|null|             65.0|             null|             null| null|null|             71.5|             null|             null|             null|null|             null|             null|             null|null|             63.0|\n",
            "|        Argentina|70.0|74.78260869565217|72.85858585858585|72.76363636363637|79.0|73.08695652173913|71.76288659793815|null|72.22033898305085|73.91428571428571|            74.52|           73.375|82.0|         74.40625|75.23076923076923|75.18518518518519|75.75|null|            71.98|73.05405405405405|72.94444444444444|             73.5|87.0| 73.2741935483871|             73.8|73.20689655172414|72.0|           72.928|\n",
            "|          Armenia|null|             null|             null|             null|null|             null|             null|null|             null|             null|             null|             null|null|             69.5|             73.0|             null| null|null|             72.0|             null|             null|             null|null|             83.0|             null|             70.5|null|             70.0|\n",
            "|        Australia|null|            71.25| 69.0952380952381|          66.8125|null|67.71428571428571|             67.0|null|68.28571428571429|             67.6|             70.0|             70.5|null|69.54545454545455|             64.0|66.44444444444444| 71.0|null|66.21428571428571|             69.5|             72.5|             77.0|null|70.53846153846153|             66.5|             68.6|66.0|            67.44|\n",
            "|          Austria|64.0|73.16666666666667|         70.28125|69.63157894736842|68.0|68.70588235294117| 68.1590909090909|null|69.47058823529412|71.58333333333333|72.44444444444444|             75.5|null|69.29411764705883|             82.0|72.33333333333333| 69.0|null| 69.0909090909091| 70.0909090909091|             69.6|72.85714285714286|66.0|70.30434782608695|70.66666666666667|             71.0|66.0|68.62962962962963|\n",
            "+-----------------+----+-----------------+-----------------+-----------------+----+-----------------+-----------------+----+-----------------+-----------------+-----------------+-----------------+----+-----------------+-----------------+-----------------+-----+----+-----------------+-----------------+-----------------+-----------------+----+-----------------+-----------------+-----------------+----+-----------------+\n",
            "\n",
            "+--------+-----------------+\n",
            "|Position|Potential_Average|\n",
            "+--------+-----------------+\n",
            "|     RDM|             77.0|\n",
            "+--------+-----------------+\n",
            "\n"
          ],
          "name": "stdout"
        }
      ]
    },
    {
      "cell_type": "code",
      "metadata": {
        "colab_type": "code",
        "id": "mRvkk376u-dE",
        "colab": {
          "base_uri": "https://localhost:8080/",
          "height": 906
        },
        "outputId": "793cbfdc-e4f8-4863-997b-f8893d53b0b7"
      },
      "source": [
        "import matplotlib.pyplot as plt\n",
        "import numpy as np\n",
        "import pandas as pd\n",
        "\n",
        "# Your Code for plot\n",
        "age_group_df=spark.sql(\"SELECT Age,Avg(Potential) as Average_Potential, Avg(Overall) as Average_Overall FROM FIFA GROUP BY Age\")\n",
        "pandas_df=age_group_df.orderBy(\"Age\").toPandas()\n"
      ],
      "execution_count": null,
      "outputs": [
        {
          "output_type": "execute_result",
          "data": {
            "text/html": [
              "<div>\n",
              "<style scoped>\n",
              "    .dataframe tbody tr th:only-of-type {\n",
              "        vertical-align: middle;\n",
              "    }\n",
              "\n",
              "    .dataframe tbody tr th {\n",
              "        vertical-align: top;\n",
              "    }\n",
              "\n",
              "    .dataframe thead th {\n",
              "        text-align: right;\n",
              "    }\n",
              "</style>\n",
              "<table border=\"1\" class=\"dataframe\">\n",
              "  <thead>\n",
              "    <tr style=\"text-align: right;\">\n",
              "      <th></th>\n",
              "      <th>Age</th>\n",
              "      <th>Average_Potential</th>\n",
              "      <th>Average_Overall</th>\n",
              "    </tr>\n",
              "  </thead>\n",
              "  <tbody>\n",
              "    <tr>\n",
              "      <th>0</th>\n",
              "      <td>16</td>\n",
              "      <td>73.190476</td>\n",
              "      <td>54.452381</td>\n",
              "    </tr>\n",
              "    <tr>\n",
              "      <th>1</th>\n",
              "      <td>17</td>\n",
              "      <td>74.339100</td>\n",
              "      <td>56.404844</td>\n",
              "    </tr>\n",
              "    <tr>\n",
              "      <th>2</th>\n",
              "      <td>18</td>\n",
              "      <td>73.530055</td>\n",
              "      <td>57.741803</td>\n",
              "    </tr>\n",
              "    <tr>\n",
              "      <th>3</th>\n",
              "      <td>19</td>\n",
              "      <td>73.146484</td>\n",
              "      <td>59.583008</td>\n",
              "    </tr>\n",
              "    <tr>\n",
              "      <th>4</th>\n",
              "      <td>20</td>\n",
              "      <td>73.213710</td>\n",
              "      <td>61.858871</td>\n",
              "    </tr>\n",
              "    <tr>\n",
              "      <th>5</th>\n",
              "      <td>21</td>\n",
              "      <td>72.957836</td>\n",
              "      <td>63.480675</td>\n",
              "    </tr>\n",
              "    <tr>\n",
              "      <th>6</th>\n",
              "      <td>22</td>\n",
              "      <td>72.819403</td>\n",
              "      <td>64.994030</td>\n",
              "    </tr>\n",
              "    <tr>\n",
              "      <th>7</th>\n",
              "      <td>23</td>\n",
              "      <td>72.555556</td>\n",
              "      <td>66.244745</td>\n",
              "    </tr>\n",
              "    <tr>\n",
              "      <th>8</th>\n",
              "      <td>24</td>\n",
              "      <td>72.079529</td>\n",
              "      <td>67.306333</td>\n",
              "    </tr>\n",
              "    <tr>\n",
              "      <th>9</th>\n",
              "      <td>25</td>\n",
              "      <td>71.290371</td>\n",
              "      <td>67.973465</td>\n",
              "    </tr>\n",
              "    <tr>\n",
              "      <th>10</th>\n",
              "      <td>26</td>\n",
              "      <td>70.176640</td>\n",
              "      <td>68.514780</td>\n",
              "    </tr>\n",
              "    <tr>\n",
              "      <th>11</th>\n",
              "      <td>27</td>\n",
              "      <td>69.709122</td>\n",
              "      <td>68.949225</td>\n",
              "    </tr>\n",
              "    <tr>\n",
              "      <th>12</th>\n",
              "      <td>28</td>\n",
              "      <td>69.444142</td>\n",
              "      <td>69.213442</td>\n",
              "    </tr>\n",
              "    <tr>\n",
              "      <th>13</th>\n",
              "      <td>29</td>\n",
              "      <td>69.357664</td>\n",
              "      <td>69.246090</td>\n",
              "    </tr>\n",
              "    <tr>\n",
              "      <th>14</th>\n",
              "      <td>30</td>\n",
              "      <td>69.700109</td>\n",
              "      <td>69.695747</td>\n",
              "    </tr>\n",
              "    <tr>\n",
              "      <th>15</th>\n",
              "      <td>31</td>\n",
              "      <td>69.850071</td>\n",
              "      <td>69.850071</td>\n",
              "    </tr>\n",
              "    <tr>\n",
              "      <th>16</th>\n",
              "      <td>32</td>\n",
              "      <td>69.529617</td>\n",
              "      <td>69.529617</td>\n",
              "    </tr>\n",
              "    <tr>\n",
              "      <th>17</th>\n",
              "      <td>33</td>\n",
              "      <td>69.558824</td>\n",
              "      <td>69.558824</td>\n",
              "    </tr>\n",
              "    <tr>\n",
              "      <th>18</th>\n",
              "      <td>34</td>\n",
              "      <td>69.539604</td>\n",
              "      <td>69.539604</td>\n",
              "    </tr>\n",
              "    <tr>\n",
              "      <th>19</th>\n",
              "      <td>35</td>\n",
              "      <td>68.132653</td>\n",
              "      <td>68.132653</td>\n",
              "    </tr>\n",
              "    <tr>\n",
              "      <th>20</th>\n",
              "      <td>36</td>\n",
              "      <td>67.937008</td>\n",
              "      <td>67.937008</td>\n",
              "    </tr>\n",
              "    <tr>\n",
              "      <th>21</th>\n",
              "      <td>37</td>\n",
              "      <td>68.939024</td>\n",
              "      <td>68.939024</td>\n",
              "    </tr>\n",
              "    <tr>\n",
              "      <th>22</th>\n",
              "      <td>38</td>\n",
              "      <td>67.378378</td>\n",
              "      <td>67.378378</td>\n",
              "    </tr>\n",
              "    <tr>\n",
              "      <th>23</th>\n",
              "      <td>39</td>\n",
              "      <td>67.640000</td>\n",
              "      <td>67.640000</td>\n",
              "    </tr>\n",
              "    <tr>\n",
              "      <th>24</th>\n",
              "      <td>40</td>\n",
              "      <td>67.692308</td>\n",
              "      <td>67.692308</td>\n",
              "    </tr>\n",
              "    <tr>\n",
              "      <th>25</th>\n",
              "      <td>41</td>\n",
              "      <td>67.600000</td>\n",
              "      <td>67.600000</td>\n",
              "    </tr>\n",
              "    <tr>\n",
              "      <th>26</th>\n",
              "      <td>42</td>\n",
              "      <td>65.000000</td>\n",
              "      <td>65.000000</td>\n",
              "    </tr>\n",
              "    <tr>\n",
              "      <th>27</th>\n",
              "      <td>44</td>\n",
              "      <td>50.500000</td>\n",
              "      <td>50.500000</td>\n",
              "    </tr>\n",
              "    <tr>\n",
              "      <th>28</th>\n",
              "      <td>45</td>\n",
              "      <td>71.000000</td>\n",
              "      <td>71.000000</td>\n",
              "    </tr>\n",
              "  </tbody>\n",
              "</table>\n",
              "</div>"
            ],
            "text/plain": [
              "    Age  Average_Potential  Average_Overall\n",
              "0    16          73.190476        54.452381\n",
              "1    17          74.339100        56.404844\n",
              "2    18          73.530055        57.741803\n",
              "3    19          73.146484        59.583008\n",
              "4    20          73.213710        61.858871\n",
              "5    21          72.957836        63.480675\n",
              "6    22          72.819403        64.994030\n",
              "7    23          72.555556        66.244745\n",
              "8    24          72.079529        67.306333\n",
              "9    25          71.290371        67.973465\n",
              "10   26          70.176640        68.514780\n",
              "11   27          69.709122        68.949225\n",
              "12   28          69.444142        69.213442\n",
              "13   29          69.357664        69.246090\n",
              "14   30          69.700109        69.695747\n",
              "15   31          69.850071        69.850071\n",
              "16   32          69.529617        69.529617\n",
              "17   33          69.558824        69.558824\n",
              "18   34          69.539604        69.539604\n",
              "19   35          68.132653        68.132653\n",
              "20   36          67.937008        67.937008\n",
              "21   37          68.939024        68.939024\n",
              "22   38          67.378378        67.378378\n",
              "23   39          67.640000        67.640000\n",
              "24   40          67.692308        67.692308\n",
              "25   41          67.600000        67.600000\n",
              "26   42          65.000000        65.000000\n",
              "27   44          50.500000        50.500000\n",
              "28   45          71.000000        71.000000"
            ]
          },
          "metadata": {
            "tags": []
          },
          "execution_count": 16
        }
      ]
    },
    {
      "cell_type": "code",
      "metadata": {
        "id": "ifplOnTletoc",
        "colab_type": "code",
        "colab": {
          "base_uri": "https://localhost:8080/",
          "height": 279
        },
        "outputId": "e1c0f565-40bf-48c5-faed-7645f2c70a7a"
      },
      "source": [
        "fig,ax=plt.subplots()\n",
        "ax.plot(pandas_df.Age, pandas_df.Average_Overall, marker=\"o\")\n",
        "ax.set_xlabel(\"Age\")\n",
        "ax.set_ylabel(\"Average Potential and Average Overall\")\n",
        "ax.plot(pandas_df.Age, pandas_df.Average_Potential, marker=\"o\")\n",
        "ax.legend(['Average Overall','Average Potential'])\n",
        "plt.show()"
      ],
      "execution_count": null,
      "outputs": [
        {
          "output_type": "display_data",
          "data": {
            "image/png": "[encoded data removed]",
            "text/plain": [
              "<Figure size 432x288 with 1 Axes>"
            ]
          },
          "metadata": {
            "tags": [],
            "needs_background": "light"
          }
        }
      ]
    },
    {
      "cell_type": "code",
      "metadata": {
        "id": "-3oEWdDHy3m4",
        "colab_type": "code",
        "colab": {
          "base_uri": "https://localhost:8080/",
          "height": 34
        },
        "outputId": "d71b11aa-efe1-42cd-d316-deb89df3631b"
      },
      "source": [
        "age_group_df.head()"
      ],
      "execution_count": null,
      "outputs": [
        {
          "output_type": "execute_result",
          "data": {
            "text/plain": [
              "Row(Age=31, Average_Potential=69.85007072135785, Average_Overall=69.85007072135785)"
            ]
          },
          "metadata": {
            "tags": []
          },
          "execution_count": 18
        }
      ]
    },
    {
      "cell_type": "code",
      "metadata": {
        "id": "ZNK3xH9c3CPm",
        "colab_type": "code",
        "colab": {
          "base_uri": "https://localhost:8080/",
          "height": 118
        },
        "outputId": "091eeb5b-16d3-49cf-9acc-623e25906db3"
      },
      "source": [
        "age_group_df.orderBy(F.desc(\"Average_Potential\")).limit(1).show()"
      ],
      "execution_count": null,
      "outputs": [
        {
          "output_type": "stream",
          "text": [
            "+---+-----------------+-----------------+\n",
            "|Age|Average_Potential|  Average_Overall|\n",
            "+---+-----------------+-----------------+\n",
            "| 17|74.33910034602076|56.40484429065744|\n",
            "+---+-----------------+-----------------+\n",
            "\n"
          ],
          "name": "stdout"
        }
      ]
    },
    {
      "cell_type": "markdown",
      "metadata": {
        "colab_type": "text",
        "id": "gMqIOge42NI7"
      },
      "source": [
        "##  Unsupervised Learning: Kmeans\n"
      ]
    },
    {
      "cell_type": "code",
      "metadata": {
        "colab_type": "code",
        "id": "X2LHjTMv3w_7",
        "colab": {
          "base_uri": "https://localhost:8080/",
          "height": 390
        },
        "outputId": "1c4b7fc4-4782-412b-ceb2-163646bfca29"
      },
      "source": [
        "# Your code to select relevant features and filter the data by removing the GK\n",
        "df_d = df.where((df.Position!='GK'))\n",
        "columns_to_drop = ['Name', 'Age', 'Photo', 'Nationality', 'Flag','Overall', 'Potential', 'Club', 'Club Logo', 'value(M)',\n",
        "                  'wage(K)', 'Special', 'Preferred Foot', 'International Reputation', 'Weak Foot', 'Skill Moves', 'Work Rate','Body Type', \n",
        "                   'Real Face', 'Jersey Number', 'Joined', 'Loaned From', 'Contract Valid Until', 'Height', 'Weight', 'GKDiving', 'GKHandling',\n",
        "                   'GKKicking', 'GKPositioning','GKReflexes', 'Release Clause(M)']\n",
        "df_d = df_d.drop(*columns_to_drop)\n",
        "\n",
        "df_d.show(15)"
      ],
      "execution_count": null,
      "outputs": [
        {
          "output_type": "stream",
          "text": [
            "+------+--------+----------+----------+--------+---------+---------------+------------+-------+---------+-----+----------+-----------+-----------+------------+-----------+-------+---------+-------+---------+-------+-------+--------+---------+----------+-------------+-----------+------+---------+---------+-------+--------------+-------------+\n",
            "|    ID|Position|Height(CM)|Weight(KG)|Crossing|Finishing|HeadingAccuracy|ShortPassing|Volleys|Dribbling|Curve|FKAccuracy|LongPassing|BallControl|Acceleration|SprintSpeed|Agility|Reactions|Balance|ShotPower|Jumping|Stamina|Strength|LongShots|Aggression|Interceptions|Positioning|Vision|Penalties|Composure|Marking|StandingTackle|SlidingTackle|\n",
            "+------+--------+----------+----------+--------+---------+---------------+------------+-------+---------+-----+----------+-----------+-----------+------------+-----------+-------+---------+-------+---------+-------+-------+--------+---------+----------+-------------+-----------+------+---------+---------+-------+--------------+-------------+\n",
            "|158023|      RF|   173.736| 72.121128|      84|       95|             70|          90|     86|       97|   93|        94|         87|         96|          91|         86|     91|       95|     95|       85|     68|     72|      59|       94|        48|           22|         94|    94|       75|       96|     33|            28|           26|\n",
            "| 20801|      ST|   188.976| 83.007336|      84|       94|             89|          81|     87|       88|   81|        76|         77|         94|          89|         91|     87|       96|     70|       95|     95|     88|      79|       93|        63|           29|         95|    82|       85|       95|     28|            31|           23|\n",
            "|190871|      LW|   179.832|   68.0388|      79|       87|             62|          84|     84|       96|   88|        87|         78|         95|          94|         90|     96|       94|     84|       80|     61|     81|      49|       82|        56|           36|         89|    87|       81|       94|     27|            24|           33|\n",
            "|192985|     RCM|  155.7528| 69.853168|      93|       82|             55|          92|     82|       86|   85|        83|         91|         91|          78|         76|     79|       91|     77|       91|     63|     90|      75|       91|        76|           61|         87|    94|       79|       88|     68|            58|           51|\n",
            "|183277|      LF|   176.784| 73.935496|      81|       84|             61|          89|     80|       95|   83|        79|         83|         94|          94|         88|     95|       90|     94|       82|     56|     83|      66|       80|        54|           41|         87|    89|       86|       91|     34|            27|           22|\n",
            "|177003|     RCM|   176.784| 66.224432|      86|       72|             55|          93|     76|       90|   85|        78|         88|         93|          80|         72|     93|       90|     94|       79|     68|     89|      58|       82|        62|           83|         79|    92|       82|       84|     60|            76|           73|\n",
            "|176580|      RS|    182.88|  86.18248|      77|       93|             77|          82|     88|       87|   86|        84|         64|         90|          86|         75|     82|       92|     83|       86|     69|     90|      83|       85|        87|           41|         92|    84|       85|       85|     62|            45|           38|\n",
            "|155862|     RCB|    182.88| 82.100152|      66|       60|             91|          78|     66|       63|   74|        72|         77|         84|          76|         75|     78|       85|     66|       79|     93|     84|      83|       59|        88|           90|         60|    63|       75|       82|     87|            92|           91|\n",
            "|188545|      ST|    182.88| 79.832192|      62|       91|             85|          83|     89|       85|   77|        86|         65|         89|          77|         78|     78|       90|     78|       88|     84|     78|      84|       84|        80|           39|         91|    77|       88|       86|     34|            42|           19|\n",
            "|182521|     LCM|    182.88| 76.203456|      88|       76|             54|          92|     82|       81|   86|        84|         93|         90|          64|         62|     70|       89|     71|       87|     30|     75|      73|       92|        60|           82|         79|    86|       73|       85|     72|            79|           69|\n",
            "|182493|      CB|   188.976| 78.017824|      55|       42|             92|          79|     47|       53|   49|        51|         70|         76|          68|         68|     58|       85|     54|       67|     91|     66|      88|       43|        89|           88|         48|    52|       50|       82|     90|            89|           89|\n",
            "|168542|     LCM|   176.784| 67.131616|      84|       76|             54|          93|     82|       89|   82|        77|         87|         94|          70|         64|     92|       90|     90|       72|     64|     78|      52|       75|        57|           50|         89|    92|       75|       93|     59|            53|           29|\n",
            "|215914|     LDM|   170.688| 72.121128|      68|       65|             54|          86|     56|       79|   49|        49|         81|         80|          82|         78|     82|       93|     92|       71|     77|     96|      76|       69|        90|           92|         71|    79|       54|       85|     90|            91|           85|\n",
            "|211110|      LF|   155.448|  74.84268|      82|       84|             68|          87|     88|       92|   88|        88|         75|         92|          87|         83|     91|       86|     85|       82|     75|     80|      65|       88|        48|           32|         84|    87|       86|       84|     23|            20|           20|\n",
            "|202126|      ST|   188.976| 88.904032|      75|       94|             85|          80|     84|       80|   78|        68|         82|         84|          68|         72|     71|       91|     71|       88|     78|     89|      84|       85|        76|           35|         93|    80|       90|       89|     56|            36|           38|\n",
            "+------+--------+----------+----------+--------+---------+---------------+------------+-------+---------+-----+----------+-----------+-----------+------------+-----------+-------+---------+-------+---------+-------+-------+--------+---------+----------+-------------+-----------+------+---------+---------+-------+--------------+-------------+\n",
            "only showing top 15 rows\n",
            "\n"
          ],
          "name": "stdout"
        }
      ]
    },
    {
      "cell_type": "markdown",
      "metadata": {
        "colab_type": "text",
        "id": "kVLBzBId9iCk"
      },
      "source": [
        "\n",
        "   # Created a new column called Position_Group with only DEF/FWD/MID\n",
        "\n"
      ]
    },
    {
      "cell_type": "code",
      "metadata": {
        "colab_type": "code",
        "id": "X4N6edcq5kE_",
        "colab": {
          "base_uri": "https://localhost:8080/",
          "height": 474
        },
        "outputId": "3b3af07c-7da8-4579-cee5-a0fdab11d5c7"
      },
      "source": [
        "from pyspark.sql.functions import when,col\n",
        "\n",
        "# Your code to complete\n",
        "DEF=  ['LB','LWB','RB','LCB','RCB','CB','RWB']\n",
        "FWD=  ['RF','LF','LW','RS','RW','LS','CF','ST'] \n",
        "MID=  ['LCM','LM','RDM','CAM','RAM','RCM','CM','CDM','RM','LAM','LDM']\n",
        "\n",
        "# Your code here to create a new variable df_kmeans_new with a new column Position_Group, ..\n",
        "#df_d = df_d.withColumn('Position_Group', df_d.Position)\n",
        "df_kmeans_new = df_d.select( \"*\", when (col(\"Position\").rlike(\"|\".join(DEF)), 'DEF'). \n",
        "                            when (col(\"Position\").rlike(\"|\".join(FWD)), 'FWD').\n",
        "                            when (col(\"Position\").rlike(\"|\".join(MID)), 'MID').alias(\"Position_Group\")\n",
        "                            \n",
        ")\n",
        "df_kmeans_new.show(20)"
      ],
      "execution_count": null,
      "outputs": [
        {
          "output_type": "stream",
          "text": [
            "+------+--------+----------+----------+--------+---------+---------------+------------+-------+---------+-----+----------+-----------+-----------+------------+-----------+-------+---------+-------+---------+-------+-------+--------+---------+----------+-------------+-----------+------+---------+---------+-------+--------------+-------------+--------------+\n",
            "|    ID|Position|Height(CM)|Weight(KG)|Crossing|Finishing|HeadingAccuracy|ShortPassing|Volleys|Dribbling|Curve|FKAccuracy|LongPassing|BallControl|Acceleration|SprintSpeed|Agility|Reactions|Balance|ShotPower|Jumping|Stamina|Strength|LongShots|Aggression|Interceptions|Positioning|Vision|Penalties|Composure|Marking|StandingTackle|SlidingTackle|Position_Group|\n",
            "+------+--------+----------+----------+--------+---------+---------------+------------+-------+---------+-----+----------+-----------+-----------+------------+-----------+-------+---------+-------+---------+-------+-------+--------+---------+----------+-------------+-----------+------+---------+---------+-------+--------------+-------------+--------------+\n",
            "|158023|      RF|   173.736| 72.121128|      84|       95|             70|          90|     86|       97|   93|        94|         87|         96|          91|         86|     91|       95|     95|       85|     68|     72|      59|       94|        48|           22|         94|    94|       75|       96|     33|            28|           26|           FWD|\n",
            "| 20801|      ST|   188.976| 83.007336|      84|       94|             89|          81|     87|       88|   81|        76|         77|         94|          89|         91|     87|       96|     70|       95|     95|     88|      79|       93|        63|           29|         95|    82|       85|       95|     28|            31|           23|           FWD|\n",
            "|190871|      LW|   179.832|   68.0388|      79|       87|             62|          84|     84|       96|   88|        87|         78|         95|          94|         90|     96|       94|     84|       80|     61|     81|      49|       82|        56|           36|         89|    87|       81|       94|     27|            24|           33|           FWD|\n",
            "|192985|     RCM|  155.7528| 69.853168|      93|       82|             55|          92|     82|       86|   85|        83|         91|         91|          78|         76|     79|       91|     77|       91|     63|     90|      75|       91|        76|           61|         87|    94|       79|       88|     68|            58|           51|           MID|\n",
            "|183277|      LF|   176.784| 73.935496|      81|       84|             61|          89|     80|       95|   83|        79|         83|         94|          94|         88|     95|       90|     94|       82|     56|     83|      66|       80|        54|           41|         87|    89|       86|       91|     34|            27|           22|           FWD|\n",
            "|177003|     RCM|   176.784| 66.224432|      86|       72|             55|          93|     76|       90|   85|        78|         88|         93|          80|         72|     93|       90|     94|       79|     68|     89|      58|       82|        62|           83|         79|    92|       82|       84|     60|            76|           73|           MID|\n",
            "|176580|      RS|    182.88|  86.18248|      77|       93|             77|          82|     88|       87|   86|        84|         64|         90|          86|         75|     82|       92|     83|       86|     69|     90|      83|       85|        87|           41|         92|    84|       85|       85|     62|            45|           38|           FWD|\n",
            "|155862|     RCB|    182.88| 82.100152|      66|       60|             91|          78|     66|       63|   74|        72|         77|         84|          76|         75|     78|       85|     66|       79|     93|     84|      83|       59|        88|           90|         60|    63|       75|       82|     87|            92|           91|           DEF|\n",
            "|188545|      ST|    182.88| 79.832192|      62|       91|             85|          83|     89|       85|   77|        86|         65|         89|          77|         78|     78|       90|     78|       88|     84|     78|      84|       84|        80|           39|         91|    77|       88|       86|     34|            42|           19|           FWD|\n",
            "|182521|     LCM|    182.88| 76.203456|      88|       76|             54|          92|     82|       81|   86|        84|         93|         90|          64|         62|     70|       89|     71|       87|     30|     75|      73|       92|        60|           82|         79|    86|       73|       85|     72|            79|           69|           MID|\n",
            "|182493|      CB|   188.976| 78.017824|      55|       42|             92|          79|     47|       53|   49|        51|         70|         76|          68|         68|     58|       85|     54|       67|     91|     66|      88|       43|        89|           88|         48|    52|       50|       82|     90|            89|           89|           DEF|\n",
            "|168542|     LCM|   176.784| 67.131616|      84|       76|             54|          93|     82|       89|   82|        77|         87|         94|          70|         64|     92|       90|     90|       72|     64|     78|      52|       75|        57|           50|         89|    92|       75|       93|     59|            53|           29|           MID|\n",
            "|215914|     LDM|   170.688| 72.121128|      68|       65|             54|          86|     56|       79|   49|        49|         81|         80|          82|         78|     82|       93|     92|       71|     77|     96|      76|       69|        90|           92|         71|    79|       54|       85|     90|            91|           85|           MID|\n",
            "|211110|      LF|   155.448|  74.84268|      82|       84|             68|          87|     88|       92|   88|        88|         75|         92|          87|         83|     91|       86|     85|       82|     75|     80|      65|       88|        48|           32|         84|    87|       86|       84|     23|            20|           20|           FWD|\n",
            "|202126|      ST|   188.976| 88.904032|      75|       94|             85|          80|     84|       80|   78|        68|         82|         84|          68|         72|     71|       91|     71|       88|     78|     89|      84|       85|        76|           35|         93|    80|       90|       89|     56|            36|           38|           FWD|\n",
            "|194765|     CAM|   179.832| 73.028312|      82|       90|             84|          83|     87|       88|   84|        78|         76|         90|          88|         85|     90|       90|     80|       80|     90|     83|      62|       82|        69|           35|         91|    83|       79|       87|     59|            47|           48|           MID|\n",
            "|189511|     CDM|   188.976| 76.203456|      62|       67|             68|          89|     44|       80|   66|        68|         82|         88|          50|         52|     66|       87|     52|       61|     66|     86|      77|       54|        85|           87|         77|    87|       60|       90|     90|            86|           80|           MID|\n",
            "|179813|      LS|   185.928|  77.11064|      70|       89|             89|          78|     90|       80|   77|        76|         52|         82|          75|         76|     77|       91|     59|       87|     88|     92|      78|       79|        84|           48|         93|    77|       85|       82|     52|            45|           39|           FWD|\n",
            "|153079|      ST|   176.784| 69.853168|      70|       93|             77|          81|     85|       89|   82|        73|         64|         89|          88|         80|     86|       90|     91|       88|     81|     76|      73|       83|        65|           24|         92|    83|       83|       90|     30|            20|           12|           FWD|\n",
            "|138956|     LCB|   188.976| 84.821704|      58|       33|             83|          59|     45|       58|   60|        31|         59|         57|          63|         75|     54|       82|     55|       78|     89|     65|      89|       49|        92|           88|         28|    50|       50|       84|     93|            93|           90|           DEF|\n",
            "+------+--------+----------+----------+--------+---------+---------------+------------+-------+---------+-----+----------+-----------+-----------+------------+-----------+-------+---------+-------+---------+-------+-------+--------+---------+----------+-------------+-----------+------+---------+---------+-------+--------------+-------------+--------------+\n",
            "only showing top 20 rows\n",
            "\n"
          ],
          "name": "stdout"
        }
      ]
    },
    {
      "cell_type": "code",
      "metadata": {
        "colab_type": "code",
        "id": "2x_o_w54B-mN",
        "colab": {
          "base_uri": "https://localhost:8080/",
          "height": 168
        },
        "outputId": "43ba8a88-2678-48eb-d079-a9b01e8effe9"
      },
      "source": [
        "from pyspark.ml.clustering import KMeans\n",
        "from pyspark.ml.feature import VectorAssembler\n",
        "\n",
        "FEATURES_COL = ['Height(CM)', 'Weight(KG)', \n",
        "                      'Crossing', 'Finishing', 'HeadingAccuracy', \n",
        "                      'ShortPassing', 'Volleys', 'Dribbling', 'Curve',\n",
        "                      'FKAccuracy', 'LongPassing', 'BallControl', \n",
        "                      'Acceleration', 'SprintSpeed', 'Agility', \n",
        "                      'Reactions', 'Balance', 'ShotPower', 'Jumping', \n",
        "                      'Stamina', 'Strength', 'LongShots', 'Aggression', \n",
        "                      'Interceptions', 'Positioning', 'Vision', 'Penalties', \n",
        "                      'Composure', 'Marking', 'StandingTackle', 'SlidingTackle']\n",
        "\n",
        "vecAssembler = VectorAssembler(inputCols=FEATURES_COL, outputCol=\"features\")\n",
        "df_kmeans_ = vecAssembler.transform(df_kmeans_new).select('ID','features')\n",
        "df_kmeans_.show(3)"
      ],
      "execution_count": null,
      "outputs": [
        {
          "output_type": "stream",
          "text": [
            "+------+--------------------+\n",
            "|    ID|            features|\n",
            "+------+--------------------+\n",
            "|158023|[173.736,72.12112...|\n",
            "| 20801|[188.976,83.00733...|\n",
            "|190871|[179.832,68.0388,...|\n",
            "+------+--------------------+\n",
            "only showing top 3 rows\n",
            "\n"
          ],
          "name": "stdout"
        }
      ]
    },
    {
      "cell_type": "code",
      "metadata": {
        "colab_type": "code",
        "id": "UDia7JYyDLhg",
        "colab": {}
      },
      "source": [
        "from sklearn.datasets.samples_generator import make_blobs\n",
        "from pyspark import SparkContext\n",
        "import pandas as pd\n",
        "import numpy as np\n",
        "\n",
        "from pyspark.ml.clustering import KMeans\n",
        "from pyspark.ml.feature import VectorAssembler\n",
        "from pyspark.sql import SQLContext\n",
        "\n",
        "cost = np.zeros(20)\n",
        "\n",
        "for k in range(2,20):\n",
        "    kmeans = KMeans().setK(k).setSeed(1).setFeaturesCol(\"features\")\n",
        "    model = kmeans.fit(df_kmeans_.sample(False,0.1, seed=42))\n",
        "    cost[k] = model.computeCost(df_kmeans_)\n",
        "\n"
      ],
      "execution_count": null,
      "outputs": []
    },
    {
      "cell_type": "code",
      "metadata": {
        "colab_type": "code",
        "id": "Mr-bSnj5EA1l",
        "colab": {
          "base_uri": "https://localhost:8080/",
          "height": 421
        },
        "outputId": "358ffd38-b2b6-4968-8aba-cf8134542502"
      },
      "source": [
        "import matplotlib.pyplot as plt\n",
        "fig, ax = plt.subplots(1,1, figsize =(8,6))\n",
        "ax.plot(range(2,20),cost[2:20])\n",
        "ax.set_xlabel('k')\n",
        "ax.set_ylabel('cost')\n",
        "ax.set_title('Elbow Plot')\n",
        "\n",
        "# Your Code\n"
      ],
      "execution_count": null,
      "outputs": [
        {
          "output_type": "execute_result",
          "data": {
            "text/plain": [
              "Text(0.5, 1.0, 'Elbow Plot')"
            ]
          },
          "metadata": {
            "tags": []
          },
          "execution_count": 52
        },
        {
          "output_type": "display_data",
          "data": {
            "image/png": "[encoded data removed]",
            "text/plain": [
              "<Figure size 576x432 with 1 Axes>"
            ]
          },
          "metadata": {
            "tags": [],
            "needs_background": "light"
          }
        }
      ]
    },
    {
      "cell_type": "code",
      "metadata": {
        "colab_type": "code",
        "id": "LxSOxcowE6vB",
        "colab": {
          "base_uri": "https://localhost:8080/",
          "height": 974
        },
        "outputId": "b2ff964d-4ca5-4201-ceb3-873c54a2ab6c"
      },
      "source": [
        "k = 8\n",
        "kmeans = KMeans().setK(k).setSeed(1).setFeaturesCol(\"features\")\n",
        "model = kmeans.fit(df_kmeans_)\n",
        "centers = model.clusterCenters()\n",
        "\n",
        "print(\"Cluster Centers: \")\n",
        "for center in centers:\n",
        "    print(center)"
      ],
      "execution_count": null,
      "outputs": [
        {
          "output_type": "stream",
          "text": [
            "Cluster Centers: \n",
            "[177.3317464   76.31794486  58.41639945  44.02061383  62.79111315\n",
            "  67.3220339   42.5387082   61.02611086  52.17911131  46.79294549\n",
            "  63.5510765   65.5758131   65.25240495  66.06596427  64.62757673\n",
            "  66.20568026  64.10581768  62.28263857  70.52038479  73.82638571\n",
            "  72.67384333  52.59688502  71.43426477  67.65048099  53.27072836\n",
            "  57.47457627  48.97938617  64.57627119  66.67155291  68.96472744\n",
            "  66.88914338]\n",
            "[187.68026262  81.70680941  39.8684377   30.21252372  68.72675522\n",
            "  59.71600253  31.19354839  44.54332701  34.72485769  33.42631246\n",
            "  54.99114485  55.46110057  53.19481341  55.6059456   50.15876028\n",
            "  62.97975965  50.6116382   51.14231499  68.34977862  64.29095509\n",
            "  79.52941176  34.24351676  70.56799494  67.06388362  33.600253\n",
            "  41.73561037  41.05566097  61.12903226  67.29411765  69.6116382\n",
            "  66.76533839]\n",
            "[172.46617578  73.21508518  65.18944637  68.70069204  57.79541522\n",
            "  69.00043253  64.56055363  73.22923875  67.01859862  61.3399654\n",
            "  60.86245675  72.86548443  76.23096886  75.48442907  76.85856401\n",
            "  68.82093426  73.3416955   71.57871972  66.4217128   69.08953287\n",
            "  63.61937716  67.48788927  56.35856401  35.85250865  70.45458478\n",
            "  67.55363322  65.27032872  68.70804498  36.98140138  34.27465398\n",
            "  30.68425606]\n",
            "[179.48039466  76.0082903   36.06083086  24.84124629  55.70029674\n",
            "  47.25816024  27.14169139  39.07121662  29.75296736  28.67655786\n",
            "  39.29896142  45.00667656  60.3189911   60.53189911  53.30267062\n",
            "  53.134273    59.04154303  38.19065282  67.60089021  60.8805638\n",
            "  67.21216617  25.61053412  57.08234421  56.22922849  31.92062315\n",
            "  34.70697329  36.51632047  47.67507418  57.19139466  60.84718101\n",
            "  58.89836795]\n",
            "[171.83121978  73.63665232  67.45570663  58.56901525  58.09394314\n",
            "  72.50432633  57.66131026  70.06098063  66.77997528  62.4223321\n",
            "  69.03461063  72.1223733   69.90688092  69.05644829  71.96744953\n",
            "  69.5434693   71.48413679  70.77832715  67.38648537  75.37206428\n",
            "  67.24639473  66.29377833  68.8170581   66.05274001  65.21137206\n",
            "  68.49938195  59.71693449  69.01771735  63.46147507  66.48413679\n",
            "  63.407911  ]\n",
            "[170.91016533  69.059326    55.29234568  55.09580247  43.15901235\n",
            "  60.04740741  48.40049383  64.16888889  52.72395062  46.47061728\n",
            "  53.46666667  62.81580247  74.15802469  73.06765432  72.88296296\n",
            "  54.81975309  74.18222222  58.15407407  57.08493827  59.05530864\n",
            "  50.88        51.04098765  42.44888889  30.00395062  56.25580247\n",
            "  56.67012346  52.63111111  55.06469136  35.40345679  33.6108642\n",
            "  32.67061728]\n",
            "[179.04405592  77.27376948  41.5253664   64.62852311  62.52367531\n",
            "  54.67080045  54.12401353  60.1572717   45.93179256  38.34892897\n",
            "  40.62514092  61.22886133  67.10372041  68.4475761   63.3934611\n",
            "  58.98816234  61.21364149  63.87373168  66.86583991  62.50281849\n",
            "  69.78015784  56.90078918  48.6854566   22.34441939  62.61555806\n",
            "  51.56313416  61.20744081  56.67080045  27.09244645  21.86414882\n",
            "  19.75479143]\n",
            "[170.42364272  71.65120522  54.40978964  39.52872168  51.07605178\n",
            "  60.99029126  37.06432039  58.46197411  45.36407767  40.24959547\n",
            "  55.51173139  59.90978964  69.55987055  69.1565534   67.27548544\n",
            "  58.08859223  69.60679612  50.26456311  64.68608414  67.79652104\n",
            "  60.88754045  42.32686084  59.25444984  56.58576052  50.67435275\n",
            "  51.5262945   43.85234628  53.67677994  56.21480583  59.43891586\n",
            "  57.93082524]\n"
          ],
          "name": "stdout"
        }
      ]
    },
    {
      "cell_type": "code",
      "metadata": {
        "colab_type": "code",
        "id": "AkWZ5-6oFlpp",
        "colab": {
          "base_uri": "https://localhost:8080/",
          "height": 238
        },
        "outputId": "86b4ec87-d907-41b4-9338-658cbc8cc8c4"
      },
      "source": [
        "from pyspark.sql import SQLContext\n",
        "\n",
        "transformed = model.transform(df_kmeans_).select('id', 'prediction')\n",
        "rows = transformed.collect()\n",
        "print(rows[:5])\n",
        "df_kmeans_.show(5)"
      ],
      "execution_count": null,
      "outputs": [
        {
          "output_type": "stream",
          "text": [
            "[Row(id=158023, prediction=2), Row(id=20801, prediction=2), Row(id=190871, prediction=2), Row(id=192985, prediction=4), Row(id=183277, prediction=2)]\n",
            "+------+--------------------+\n",
            "|    ID|            features|\n",
            "+------+--------------------+\n",
            "|158023|[173.736,72.12112...|\n",
            "| 20801|[188.976,83.00733...|\n",
            "|190871|[179.832,68.0388,...|\n",
            "|192985|[155.7528,69.8531...|\n",
            "|183277|[176.784,73.93549...|\n",
            "+------+--------------------+\n",
            "only showing top 5 rows\n",
            "\n"
          ],
          "name": "stdout"
        }
      ]
    },
    {
      "cell_type": "code",
      "metadata": {
        "id": "w67cs8DcHAXA",
        "colab_type": "code",
        "colab": {
          "base_uri": "https://localhost:8080/",
          "height": 910
        },
        "outputId": "d06e71e8-5689-4a37-d3bb-52a9db3b47c4"
      },
      "source": [
        "spark= SparkSession.builder.getOrCreate()\n",
        "from pyspark.sql import SparkSession\n",
        "from pyspark.sql.types import IntegerType\n",
        "from pyspark.sql import *\n",
        "from pyspark.sql.types import *\n",
        "\n",
        "sql = SQLContext(spark)\n",
        "df_kmeans_pred_1 = sql.createDataFrame(rows)\n",
        "df_kmeans_pred_1.show()\n",
        "df_kmeans_pred_ = df_kmeans_new.join(df_kmeans_pred_1, on=['ID'], how='inner')\n",
        "df_kmeans_pred_.show()\n"
      ],
      "execution_count": null,
      "outputs": [
        {
          "output_type": "stream",
          "text": [
            "+------+----------+\n",
            "|    id|prediction|\n",
            "+------+----------+\n",
            "|158023|         2|\n",
            "| 20801|         2|\n",
            "|190871|         2|\n",
            "|192985|         4|\n",
            "|183277|         2|\n",
            "|177003|         4|\n",
            "|176580|         2|\n",
            "|155862|         4|\n",
            "|188545|         2|\n",
            "|182521|         4|\n",
            "|182493|         0|\n",
            "|168542|         2|\n",
            "|215914|         4|\n",
            "|211110|         2|\n",
            "|202126|         2|\n",
            "|194765|         2|\n",
            "|189511|         4|\n",
            "|179813|         2|\n",
            "|153079|         2|\n",
            "|138956|         0|\n",
            "+------+----------+\n",
            "only showing top 20 rows\n",
            "\n",
            "+------+--------+----------+----------+--------+---------+---------------+------------+-------+---------+-----+----------+-----------+-----------+------------+-----------+-------+---------+-------+---------+-------+-------+--------+---------+----------+-------------+-----------+------+---------+---------+-------+--------------+-------------+--------------+----------+\n",
            "|    ID|Position|Height(CM)|Weight(KG)|Crossing|Finishing|HeadingAccuracy|ShortPassing|Volleys|Dribbling|Curve|FKAccuracy|LongPassing|BallControl|Acceleration|SprintSpeed|Agility|Reactions|Balance|ShotPower|Jumping|Stamina|Strength|LongShots|Aggression|Interceptions|Positioning|Vision|Penalties|Composure|Marking|StandingTackle|SlidingTackle|Position_Group|prediction|\n",
            "+------+--------+----------+----------+--------+---------+---------------+------------+-------+---------+-----+----------+-----------+-----------+------------+-----------+-------+---------+-------+---------+-------+-------+--------+---------+----------+-------------+-----------+------+---------+---------+-------+--------------+-------------+--------------+----------+\n",
            "|158023|      RF|   173.736| 72.121128|      84|       95|             70|          90|     86|       97|   93|        94|         87|         96|          91|         86|     91|       95|     95|       85|     68|     72|      59|       94|        48|           22|         94|    94|       75|       96|     33|            28|           26|           FWD|         2|\n",
            "| 20801|      ST|   188.976| 83.007336|      84|       94|             89|          81|     87|       88|   81|        76|         77|         94|          89|         91|     87|       96|     70|       95|     95|     88|      79|       93|        63|           29|         95|    82|       85|       95|     28|            31|           23|           FWD|         2|\n",
            "|190871|      LW|   179.832|   68.0388|      79|       87|             62|          84|     84|       96|   88|        87|         78|         95|          94|         90|     96|       94|     84|       80|     61|     81|      49|       82|        56|           36|         89|    87|       81|       94|     27|            24|           33|           FWD|         2|\n",
            "|192985|     RCM|  155.7528| 69.853168|      93|       82|             55|          92|     82|       86|   85|        83|         91|         91|          78|         76|     79|       91|     77|       91|     63|     90|      75|       91|        76|           61|         87|    94|       79|       88|     68|            58|           51|           MID|         4|\n",
            "|183277|      LF|   176.784| 73.935496|      81|       84|             61|          89|     80|       95|   83|        79|         83|         94|          94|         88|     95|       90|     94|       82|     56|     83|      66|       80|        54|           41|         87|    89|       86|       91|     34|            27|           22|           FWD|         2|\n",
            "|177003|     RCM|   176.784| 66.224432|      86|       72|             55|          93|     76|       90|   85|        78|         88|         93|          80|         72|     93|       90|     94|       79|     68|     89|      58|       82|        62|           83|         79|    92|       82|       84|     60|            76|           73|           MID|         4|\n",
            "|176580|      RS|    182.88|  86.18248|      77|       93|             77|          82|     88|       87|   86|        84|         64|         90|          86|         75|     82|       92|     83|       86|     69|     90|      83|       85|        87|           41|         92|    84|       85|       85|     62|            45|           38|           FWD|         2|\n",
            "|155862|     RCB|    182.88| 82.100152|      66|       60|             91|          78|     66|       63|   74|        72|         77|         84|          76|         75|     78|       85|     66|       79|     93|     84|      83|       59|        88|           90|         60|    63|       75|       82|     87|            92|           91|           DEF|         4|\n",
            "|188545|      ST|    182.88| 79.832192|      62|       91|             85|          83|     89|       85|   77|        86|         65|         89|          77|         78|     78|       90|     78|       88|     84|     78|      84|       84|        80|           39|         91|    77|       88|       86|     34|            42|           19|           FWD|         2|\n",
            "|182521|     LCM|    182.88| 76.203456|      88|       76|             54|          92|     82|       81|   86|        84|         93|         90|          64|         62|     70|       89|     71|       87|     30|     75|      73|       92|        60|           82|         79|    86|       73|       85|     72|            79|           69|           MID|         4|\n",
            "|182493|      CB|   188.976| 78.017824|      55|       42|             92|          79|     47|       53|   49|        51|         70|         76|          68|         68|     58|       85|     54|       67|     91|     66|      88|       43|        89|           88|         48|    52|       50|       82|     90|            89|           89|           DEF|         0|\n",
            "|168542|     LCM|   176.784| 67.131616|      84|       76|             54|          93|     82|       89|   82|        77|         87|         94|          70|         64|     92|       90|     90|       72|     64|     78|      52|       75|        57|           50|         89|    92|       75|       93|     59|            53|           29|           MID|         2|\n",
            "|215914|     LDM|   170.688| 72.121128|      68|       65|             54|          86|     56|       79|   49|        49|         81|         80|          82|         78|     82|       93|     92|       71|     77|     96|      76|       69|        90|           92|         71|    79|       54|       85|     90|            91|           85|           MID|         4|\n",
            "|211110|      LF|   155.448|  74.84268|      82|       84|             68|          87|     88|       92|   88|        88|         75|         92|          87|         83|     91|       86|     85|       82|     75|     80|      65|       88|        48|           32|         84|    87|       86|       84|     23|            20|           20|           FWD|         2|\n",
            "|202126|      ST|   188.976| 88.904032|      75|       94|             85|          80|     84|       80|   78|        68|         82|         84|          68|         72|     71|       91|     71|       88|     78|     89|      84|       85|        76|           35|         93|    80|       90|       89|     56|            36|           38|           FWD|         2|\n",
            "|194765|     CAM|   179.832| 73.028312|      82|       90|             84|          83|     87|       88|   84|        78|         76|         90|          88|         85|     90|       90|     80|       80|     90|     83|      62|       82|        69|           35|         91|    83|       79|       87|     59|            47|           48|           MID|         2|\n",
            "|189511|     CDM|   188.976| 76.203456|      62|       67|             68|          89|     44|       80|   66|        68|         82|         88|          50|         52|     66|       87|     52|       61|     66|     86|      77|       54|        85|           87|         77|    87|       60|       90|     90|            86|           80|           MID|         4|\n",
            "|179813|      LS|   185.928|  77.11064|      70|       89|             89|          78|     90|       80|   77|        76|         52|         82|          75|         76|     77|       91|     59|       87|     88|     92|      78|       79|        84|           48|         93|    77|       85|       82|     52|            45|           39|           FWD|         2|\n",
            "|153079|      ST|   176.784| 69.853168|      70|       93|             77|          81|     85|       89|   82|        73|         64|         89|          88|         80|     86|       90|     91|       88|     81|     76|      73|       83|        65|           24|         92|    83|       83|       90|     30|            20|           12|           FWD|         2|\n",
            "|138956|     LCB|   188.976| 84.821704|      58|       33|             83|          59|     45|       58|   60|        31|         59|         57|          63|         75|     54|       82|     55|       78|     89|     65|      89|       49|        92|           88|         28|    50|       50|       84|     93|            93|           90|           DEF|         0|\n",
            "+------+--------+----------+----------+--------+---------+---------------+------------+-------+---------+-----+----------+-----------+-----------+------------+-----------+-------+---------+-------+---------+-------+-------+--------+---------+----------+-------------+-----------+------+---------+---------+-------+--------------+-------------+--------------+----------+\n",
            "only showing top 20 rows\n",
            "\n"
          ],
          "name": "stdout"
        }
      ]
    },
    {
      "cell_type": "code",
      "metadata": {
        "id": "g18U6BTt71RV",
        "colab_type": "code",
        "colab": {
          "base_uri": "https://localhost:8080/",
          "height": 235
        },
        "outputId": "5dca7582-3a7e-4f5d-addd-a1bc297eaac5"
      },
      "source": [
        "df_kmeans_pred_.groupby('prediction').pivot(\"Position_Group\").count().sort(\"prediction\", ascending = True).show()"
      ],
      "execution_count": null,
      "outputs": [
        {
          "output_type": "stream",
          "text": [
            "+----------+----+----+----+\n",
            "|prediction| DEF| FWD| MID|\n",
            "+----------+----+----+----+\n",
            "|         0|1230|  11| 967|\n",
            "|         1|1462|   2| 117|\n",
            "|         2|   4|1112|1195|\n",
            "|         3|1266|   1|  77|\n",
            "|         4| 599|  71|1720|\n",
            "|         5|   8| 535|1486|\n",
            "|         6|null|1648| 135|\n",
            "|         7|1297|  38|1141|\n",
            "+----------+----+----+----+\n",
            "\n"
          ],
          "name": "stdout"
        }
      ]
    },
    {
      "cell_type": "code",
      "metadata": {
        "id": "ZLcodmmw9BB0",
        "colab_type": "code",
        "colab": {
          "base_uri": "https://localhost:8080/",
          "height": 171
        },
        "outputId": "66f4e3a7-7361-4e3b-fc03-d249d0daeb37"
      },
      "source": [
        "df_kmeans_pred_ = df_kmeans_pred_.withColumnRenamed('prediction', 'Cluster')\n",
        "df_kmeans_pred_.show(2)"
      ],
      "execution_count": null,
      "outputs": [
        {
          "output_type": "stream",
          "text": [
            "+------+--------+----------+----------+--------+---------+---------------+------------+-------+---------+-----+----------+-----------+-----------+------------+-----------+-------+---------+-------+---------+-------+-------+--------+---------+----------+-------------+-----------+------+---------+---------+-------+--------------+-------------+--------------+-------+\n",
            "|    ID|Position|Height(CM)|Weight(KG)|Crossing|Finishing|HeadingAccuracy|ShortPassing|Volleys|Dribbling|Curve|FKAccuracy|LongPassing|BallControl|Acceleration|SprintSpeed|Agility|Reactions|Balance|ShotPower|Jumping|Stamina|Strength|LongShots|Aggression|Interceptions|Positioning|Vision|Penalties|Composure|Marking|StandingTackle|SlidingTackle|Position_Group|Cluster|\n",
            "+------+--------+----------+----------+--------+---------+---------------+------------+-------+---------+-----+----------+-----------+-----------+------------+-----------+-------+---------+-------+---------+-------+-------+--------+---------+----------+-------------+-----------+------+---------+---------+-------+--------------+-------------+--------------+-------+\n",
            "|158023|      RF|   173.736| 72.121128|      84|       95|             70|          90|     86|       97|   93|        94|         87|         96|          91|         86|     91|       95|     95|       85|     68|     72|      59|       94|        48|           22|         94|    94|       75|       96|     33|            28|           26|           FWD|      2|\n",
            "| 20801|      ST|   188.976| 83.007336|      84|       94|             89|          81|     87|       88|   81|        76|         77|         94|          89|         91|     87|       96|     70|       95|     95|     88|      79|       93|        63|           29|         95|    82|       85|       95|     28|            31|           23|           FWD|      2|\n",
            "+------+--------+----------+----------+--------+---------+---------------+------------+-------+---------+-----+----------+-----------+-----------+------------+-----------+-------+---------+-------+---------+-------+-------+--------+---------+----------+-------------+-----------+------+---------+---------+-------+--------------+-------------+--------------+-------+\n",
            "only showing top 2 rows\n",
            "\n"
          ],
          "name": "stdout"
        }
      ]
    },
    {
      "cell_type": "markdown",
      "metadata": {
        "colab_type": "text",
        "id": "IiHEevY6IOJz"
      },
      "source": [
        "# Supervised Learning: Classification on Position_Group\n",
        "\n",
        "\n",
        "We use player's skill set values to segment the players into 8 clusters. Now we want to see whether we could accurately predict the position_group of the player.\n",
        "\n",
        "\n",
        "\n",
        "# Data Preparation\n",
        "\n",
        "We remove the feature of position and only use the skill set features and the cluster results from Kmeans as the input. Potion_group is the target"
      ]
    },
    {
      "cell_type": "code",
      "metadata": {
        "colab_type": "code",
        "id": "PwtsyrUsI8e_",
        "colab": {
          "base_uri": "https://localhost:8080/",
          "height": 168
        },
        "outputId": "364aaa52-d668-4a15-b88d-2eeb88ef35d7"
      },
      "source": [
        "FEATURES_COL_ = ['Height(CM)', 'Weight(KG)', \n",
        "                      'Crossing', 'Finishing', 'HeadingAccuracy', \n",
        "                      'ShortPassing', 'Volleys', 'Dribbling', 'Curve',\n",
        "                      'FKAccuracy', 'LongPassing', 'BallControl', \n",
        "                      'Acceleration', 'SprintSpeed', 'Agility', \n",
        "                      'Reactions', 'Balance', 'ShotPower', 'Jumping', \n",
        "                      'Stamina', 'Strength', 'LongShots', 'Aggression', \n",
        "                      'Interceptions', 'Positioning', 'Vision', 'Penalties', \n",
        "                      'Composure', 'Marking', 'StandingTackle', 'SlidingTackle','Cluster']\n",
        "\n",
        "\n",
        "vecAssembler_ = VectorAssembler(inputCols=FEATURES_COL_, outputCol=\"features\")\n",
        "df_class_ = vecAssembler_.transform(df_kmeans_pred_).select('features','Position_Group')\n",
        "df_class_.show(3)\n"
      ],
      "execution_count": null,
      "outputs": [
        {
          "output_type": "stream",
          "text": [
            "+--------------------+--------------+\n",
            "|            features|Position_Group|\n",
            "+--------------------+--------------+\n",
            "|[173.736,72.12112...|           FWD|\n",
            "|[188.976,83.00733...|           FWD|\n",
            "|[179.832,68.0388,...|           FWD|\n",
            "+--------------------+--------------+\n",
            "only showing top 3 rows\n",
            "\n"
          ],
          "name": "stdout"
        }
      ]
    },
    {
      "cell_type": "markdown",
      "metadata": {
        "colab_type": "text",
        "id": "AklN81TvMKJS"
      },
      "source": [
        "In many data science modelling work, feature scaling is very important.\n",
        "In here, we use standard scaling on the features."
      ]
    },
    {
      "cell_type": "code",
      "metadata": {
        "colab_type": "code",
        "id": "pjQRAHOQMK6V",
        "colab": {
          "base_uri": "https://localhost:8080/",
          "height": 202
        },
        "outputId": "6507b917-5735-4308-d864-17b42e67a323"
      },
      "source": [
        "from pyspark.ml.feature import StandardScaler\n",
        "\n",
        "standardscaler=StandardScaler().setInputCol(\"features\").setOutputCol(\"Scaled_features\")\n",
        "raw_data=standardscaler.fit(df_class_).transform(df_class_)\n",
        "raw_data.select(\"features\",\"Scaled_features\",'Position_Group').show(5)"
      ],
      "execution_count": null,
      "outputs": [
        {
          "output_type": "stream",
          "text": [
            "+--------------------+--------------------+--------------+\n",
            "|            features|     Scaled_features|Position_Group|\n",
            "+--------------------+--------------------+--------------+\n",
            "|[173.736,72.12112...|[12.9261363965246...|           FWD|\n",
            "|[188.976,83.00733...|[14.0600080102548...|           FWD|\n",
            "|[179.832,68.0388,...|[13.3796850420166...|           FWD|\n",
            "|[155.7528,69.8531...|[11.5881678923229...|           MID|\n",
            "|[176.784,73.93549...|[13.1529107192706...|           FWD|\n",
            "+--------------------+--------------------+--------------+\n",
            "only showing top 5 rows\n",
            "\n"
          ],
          "name": "stdout"
        }
      ]
    },
    {
      "cell_type": "markdown",
      "metadata": {
        "colab_type": "text",
        "id": "DD6wgq2sgiGk"
      },
      "source": [
        "In Spark, you could not use string as Target data type, Please encode the Position_Group column by using following encoding: \n",
        "\n",
        "FWD = 0\n",
        "DEF = 1\n",
        "MID = 2\n",
        "\n",
        "*Hint: Data type after encoding should be numeric.*"
      ]
    },
    {
      "cell_type": "code",
      "metadata": {
        "colab_type": "code",
        "id": "OosmFX9iOc0Z",
        "colab": {}
      },
      "source": [
        "raw_data_ = raw_data.withColumn('Target',when(col(\"Position_Group\") == \"DEF\", 1)\n",
        "      .when(col(\"Position_Group\")== \"FWD\", 0)\n",
        "      .otherwise(2))"
      ],
      "execution_count": null,
      "outputs": []
    },
    {
      "cell_type": "code",
      "metadata": {
        "colab_type": "code",
        "id": "MmbanmwBMUQB",
        "colab": {}
      },
      "source": [
        "train, test = raw_data_.randomSplit([0.7, 0.3], seed=12)"
      ],
      "execution_count": null,
      "outputs": []
    },
    {
      "cell_type": "code",
      "metadata": {
        "colab_type": "code",
        "id": "apoKm9igMi12",
        "colab": {
          "base_uri": "https://localhost:8080/",
          "height": 202
        },
        "outputId": "e3fd6289-cb24-46e6-cded-18e8f78372f8"
      },
      "source": [
        "from pyspark.ml.classification import LogisticRegression\n",
        "lr = LogisticRegression(labelCol=\"Target\", featuresCol=\"Scaled_features\",maxIter=10)\n",
        "model=lr.fit(train)\n",
        "\n",
        "predict_train=model.transform(train)\n",
        "predict_test=model.transform(test)\n",
        "predict_test= predict_test.select(\"Target\",\"prediction\")\n",
        "predict_train.show(5)\n",
        "predict_test= predict_test\n"
      ],
      "execution_count": null,
      "outputs": [
        {
          "output_type": "stream",
          "text": [
            "+--------------------+--------------+--------------------+------+--------------------+--------------------+----------+\n",
            "|            features|Position_Group|     Scaled_features|Target|       rawPrediction|         probability|prediction|\n",
            "+--------------------+--------------+--------------------+------+--------------------+--------------------+----------+\n",
            "|[155.448,57.15259...|           MID|[11.5654904600483...|     2|[1.40171145563638...|[0.37482653624515...|       2.0|\n",
            "|[155.448,58.05977...|           MID|[11.5654904600483...|     2|[0.40813205042578...|[0.07051039097986...|       2.0|\n",
            "|[155.448,60.78132...|           DEF|[11.5654904600483...|     1|[-3.1531593363475...|[0.00361447660201...|       1.0|\n",
            "|[155.448,62.14210...|           MID|[11.5654904600483...|     2|[0.10407430140494...|[0.20497593747010...|       2.0|\n",
            "|[155.448,63.04928...|           MID|[11.5654904600483...|     2|[-1.3747129962200...|[0.01014249199867...|       2.0|\n",
            "+--------------------+--------------+--------------------+------+--------------------+--------------------+----------+\n",
            "only showing top 5 rows\n",
            "\n"
          ],
          "name": "stdout"
        }
      ]
    },
    {
      "cell_type": "code",
      "metadata": {
        "colab_type": "code",
        "id": "yPho8CbGQCCm",
        "colab": {
          "base_uri": "https://localhost:8080/",
          "height": 84
        },
        "outputId": "57be8720-3178-498d-9312-d43254951ab3"
      },
      "source": [
        "from sklearn.metrics import confusion_matrix\n",
        "\n",
        "Target_m = predict_test.select(['Target']).collect()\n",
        "Predict_m= predict_test.select(['prediction']).collect()\n",
        "\n",
        "\n",
        "print(\"Confusion matrix:\")\n",
        "confusion_matrix(Target_m, Predict_m)\n"
      ],
      "execution_count": null,
      "outputs": [
        {
          "output_type": "stream",
          "text": [
            "Confusion matrix:\n"
          ],
          "name": "stdout"
        },
        {
          "output_type": "execute_result",
          "data": {
            "text/plain": [
              "array([[ 821,    7,  210],\n",
              "       [   2, 1466,  307],\n",
              "       [ 194,  240, 1637]])"
            ]
          },
          "metadata": {
            "tags": []
          },
          "execution_count": 63
        }
      ]
    },
    {
      "cell_type": "code",
      "metadata": {
        "colab_type": "code",
        "id": "d95nOilARR8H",
        "colab": {
          "base_uri": "https://localhost:8080/",
          "height": 202
        },
        "outputId": "4f3be264-aebd-4844-9a11-4fe8318f8f7d"
      },
      "source": [
        "from sklearn.metrics import classification_report\n",
        "print(\"Classification Report:\")\n",
        "print(classification_report(Target_m, Predict_m))\n",
        "\n",
        "\n"
      ],
      "execution_count": null,
      "outputs": [
        {
          "output_type": "stream",
          "text": [
            "Classification Report:\n",
            "              precision    recall  f1-score   support\n",
            "\n",
            "           0       0.81      0.79      0.80      1038\n",
            "           1       0.86      0.83      0.84      1775\n",
            "           2       0.76      0.79      0.77      2071\n",
            "\n",
            "    accuracy                           0.80      4884\n",
            "   macro avg       0.81      0.80      0.80      4884\n",
            "weighted avg       0.80      0.80      0.80      4884\n",
            "\n"
          ],
          "name": "stdout"
        }
      ]
    },
    {
      "cell_type": "code",
      "metadata": {
        "id": "UxLAPYHHSoLy",
        "colab_type": "code",
        "colab": {
          "base_uri": "https://localhost:8080/",
          "height": 202
        },
        "outputId": "10ee0345-6b42-4b90-dece-c8080e2d765a"
      },
      "source": [
        "train_data, test_data = raw_data_.randomSplit([0.7, 0.3], seed=12)\n",
        "train_data.show(5)"
      ],
      "execution_count": null,
      "outputs": [
        {
          "output_type": "stream",
          "text": [
            "+--------------------+--------------+--------------------+------+\n",
            "|            features|Position_Group|     Scaled_features|Target|\n",
            "+--------------------+--------------+--------------------+------+\n",
            "|[155.448,57.15259...|           MID|[11.5654904600483...|     2|\n",
            "|[155.448,58.05977...|           MID|[11.5654904600483...|     2|\n",
            "|[155.448,60.78132...|           DEF|[11.5654904600483...|     1|\n",
            "|[155.448,62.14210...|           MID|[11.5654904600483...|     2|\n",
            "|[155.448,63.04928...|           MID|[11.5654904600483...|     2|\n",
            "+--------------------+--------------+--------------------+------+\n",
            "only showing top 5 rows\n",
            "\n"
          ],
          "name": "stdout"
        }
      ]
    },
    {
      "cell_type": "code",
      "metadata": {
        "colab_type": "code",
        "id": "0yCvsy1-jO7x",
        "colab": {}
      },
      "source": [
        "from pyspark.ml import Pipeline\n",
        "from pyspark.ml.classification import RandomForestClassifier\n",
        "from pyspark.ml.classification import MultilayerPerceptronClassifier\n",
        "from pyspark.ml.classification import NaiveBayes\n",
        "from pyspark.ml.evaluation import MulticlassClassificationEvaluator\n",
        "from pyspark.ml.evaluation import BinaryClassificationEvaluator\n",
        "from pyspark.ml.tuning import ParamGridBuilder, CrossValidator\n",
        "from pyspark.ml.classification import GBTClassifier\n",
        "from pyspark.ml.classification import DecisionTreeClassifier\n",
        "\n",
        "\n",
        "\n",
        "# Your code \n"
      ],
      "execution_count": null,
      "outputs": []
    },
    {
      "cell_type": "markdown",
      "metadata": {
        "id": "sd8TUHcih7Te",
        "colab_type": "text"
      },
      "source": [
        "#Random Classifier"
      ]
    },
    {
      "cell_type": "code",
      "metadata": {
        "id": "Ql56irLnWDe1",
        "colab_type": "code",
        "colab": {
          "base_uri": "https://localhost:8080/",
          "height": 218
        },
        "outputId": "495de961-3dbf-460c-a175-50f8343db312"
      },
      "source": [
        "from pyspark.ml import Pipeline\n",
        "rf = RandomForestClassifier().setLabelCol(\"Target\").setFeaturesCol(\"Scaled_features\").setNumTrees(4)\n",
        "\n",
        "pipeline = Pipeline(stages=[rf])\n",
        "\n",
        "paramGrid = ParamGridBuilder() \\\n",
        "    .addGrid(rf.maxDepth, [5, 7]) \\\n",
        "    .addGrid(rf.maxBins, [10,20]) \\\n",
        "    .build()\n",
        "\n",
        "evaluator = MulticlassClassificationEvaluator().setLabelCol(\"Target\")\n",
        "\n",
        "crossval = CrossValidator(\n",
        "    estimator=pipeline,\n",
        "    estimatorParamMaps=paramGrid,\n",
        "    evaluator=evaluator,\n",
        "    numFolds=5)\n",
        "\n",
        "model_rf = crossval.fit(train_data)\n",
        "\n",
        "\n",
        "predict_test_rf=model_rf.transform(test_data)\n",
        "predict_test_rf= predict_test_rf.select(\"Target\",\"prediction\")\n",
        "predict_test_rf.show(5)\n",
        "\n",
        "\n",
        "\n",
        "evaluator.evaluate(predict_test_rf)\n"
      ],
      "execution_count": null,
      "outputs": [
        {
          "output_type": "stream",
          "text": [
            "+------+----------+\n",
            "|Target|prediction|\n",
            "+------+----------+\n",
            "|     2|       2.0|\n",
            "|     2|       2.0|\n",
            "|     0|       0.0|\n",
            "|     0|       2.0|\n",
            "|     2|       2.0|\n",
            "+------+----------+\n",
            "only showing top 5 rows\n",
            "\n"
          ],
          "name": "stdout"
        },
        {
          "output_type": "execute_result",
          "data": {
            "text/plain": [
              "0.8315644682641298"
            ]
          },
          "metadata": {
            "tags": []
          },
          "execution_count": 67
        }
      ]
    },
    {
      "cell_type": "code",
      "metadata": {
        "id": "Cqr_ai0gHxbn",
        "colab_type": "code",
        "colab": {
          "base_uri": "https://localhost:8080/",
          "height": 322
        },
        "outputId": "d743bc49-3975-4773-aca2-db5eb64d68b2"
      },
      "source": [
        "bp= model_rf.bestModel\n",
        "bestmodel = bp.stages[-1]\n",
        "bestparam= bestModel.extractParamMap()\n",
        "bestparam"
      ],
      "execution_count": null,
      "outputs": [
        {
          "output_type": "execute_result",
          "data": {
            "text/plain": [
              "{Param(parent='RandomForestClassifier_8eca22c0102c', name='cacheNodeIds', doc='If false, the algorithm will pass trees to executors to match instances with nodes. If true, the algorithm will cache node IDs for each instance. Caching can speed up training of deeper trees.'): False,\n",
              " Param(parent='RandomForestClassifier_8eca22c0102c', name='checkpointInterval', doc='set checkpoint interval (>= 1) or disable checkpoint (-1). E.g. 10 means that the cache will get checkpointed every 10 iterations. Note: this setting will be ignored if the checkpoint directory is not set in the SparkContext'): 10,\n",
              " Param(parent='RandomForestClassifier_8eca22c0102c', name='featureSubsetStrategy', doc='The number of features to consider for splits at each tree node. Supported options: auto, all, onethird, sqrt, log2, (0.0-1.0], [1-n].'): 'auto',\n",
              " Param(parent='RandomForestClassifier_8eca22c0102c', name='featuresCol', doc='features column name'): 'Scaled_features',\n",
              " Param(parent='RandomForestClassifier_8eca22c0102c', name='impurity', doc='Criterion used for information gain calculation (case-insensitive). Supported options: entropy, gini'): 'gini',\n",
              " Param(parent='RandomForestClassifier_8eca22c0102c', name='labelCol', doc='label column name'): 'Target',\n",
              " Param(parent='RandomForestClassifier_8eca22c0102c', name='maxBins', doc='Max number of bins for discretizing continuous features.  Must be >=2 and >= number of categories for any categorical feature.'): 20,\n",
              " Param(parent='RandomForestClassifier_8eca22c0102c', name='maxDepth', doc='Maximum depth of the tree. (>= 0) E.g., depth 0 means 1 leaf node; depth 1 means 1 internal node + 2 leaf nodes.'): 7,\n",
              " Param(parent='RandomForestClassifier_8eca22c0102c', name='maxMemoryInMB', doc='Maximum memory in MB allocated to histogram aggregation.'): 256,\n",
              " Param(parent='RandomForestClassifier_8eca22c0102c', name='minInfoGain', doc='Minimum information gain for a split to be considered at a tree node.'): 0.0,\n",
              " Param(parent='RandomForestClassifier_8eca22c0102c', name='minInstancesPerNode', doc='Minimum number of instances each child must have after split.  If a split causes the left or right child to have fewer than minInstancesPerNode, the split will be discarded as invalid. Should be >= 1.'): 1,\n",
              " Param(parent='RandomForestClassifier_8eca22c0102c', name='numTrees', doc='Number of trees to train (>= 1)'): 4,\n",
              " Param(parent='RandomForestClassifier_8eca22c0102c', name='predictionCol', doc='prediction column name'): 'prediction',\n",
              " Param(parent='RandomForestClassifier_8eca22c0102c', name='probabilityCol', doc='Column name for predicted class conditional probabilities. Note: Not all models output well-calibrated probability estimates! These probabilities should be treated as confidences, not precise probabilities'): 'probability',\n",
              " Param(parent='RandomForestClassifier_8eca22c0102c', name='rawPredictionCol', doc='raw prediction (a.k.a. confidence) column name'): 'rawPrediction',\n",
              " Param(parent='RandomForestClassifier_8eca22c0102c', name='seed', doc='random seed'): 3284473283049493627,\n",
              " Param(parent='RandomForestClassifier_8eca22c0102c', name='subsamplingRate', doc='Fraction of the training data used for learning each decision tree, in range (0, 1].'): 1.0}"
            ]
          },
          "metadata": {
            "tags": []
          },
          "execution_count": 74
        }
      ]
    },
    {
      "cell_type": "markdown",
      "metadata": {
        "id": "KhfHnNUuiAHt",
        "colab_type": "text"
      },
      "source": [
        "# Naive Bayes"
      ]
    },
    {
      "cell_type": "code",
      "metadata": {
        "id": "Iytb925qZjgF",
        "colab_type": "code",
        "colab": {
          "base_uri": "https://localhost:8080/",
          "height": 235
        },
        "outputId": "d6e2b7b4-0cbe-4f91-cd5f-2cd50d41236c"
      },
      "source": [
        "# Your code\n",
        "nb = NaiveBayes().setLabelCol(\"Target\").setFeaturesCol(\"Scaled_features\")\n",
        "pipeline = Pipeline(stages=[nb])\n",
        "\n",
        "paramGrid = (ParamGridBuilder()\n",
        "             .addGrid(nb.smoothing, [1.0, 0.5])\n",
        "             .build())\n",
        "evaluator = MulticlassClassificationEvaluator().setLabelCol(\"Target\")\n",
        "\n",
        "crossval_nb = CrossValidator(\n",
        "    estimator=pipeline,\n",
        "    estimatorParamMaps=paramGrid,\n",
        "    evaluator=evaluator,\n",
        "    numFolds=5)\n",
        "\n",
        "model_nb = crossval_nb.fit(train_data)\n",
        "\n",
        "\n",
        "predict_test_nb=model_nb.transform(test_data)\n",
        "predict_test_nb= predict_test_nb.select(\"Target\",\"prediction\")\n",
        "predict_test_nb.show(5)\n",
        "print(\"Accuracy:\")\n",
        "evaluator.evaluate(predict_test_nb)\n"
      ],
      "execution_count": null,
      "outputs": [
        {
          "output_type": "stream",
          "text": [
            "+------+----------+\n",
            "|Target|prediction|\n",
            "+------+----------+\n",
            "|     2|       2.0|\n",
            "|     2|       2.0|\n",
            "|     0|       0.0|\n",
            "|     0|       0.0|\n",
            "|     2|       0.0|\n",
            "+------+----------+\n",
            "only showing top 5 rows\n",
            "\n",
            "Accuracy:\n"
          ],
          "name": "stdout"
        },
        {
          "output_type": "execute_result",
          "data": {
            "text/plain": [
              "0.7674492904781833"
            ]
          },
          "metadata": {
            "tags": []
          },
          "execution_count": 77
        }
      ]
    },
    {
      "cell_type": "code",
      "metadata": {
        "id": "ts-TKluYq-mb",
        "colab_type": "code",
        "colab": {
          "base_uri": "https://localhost:8080/",
          "height": 154
        },
        "outputId": "74544f89-2981-444f-d11f-068ad081a61f"
      },
      "source": [
        "bp_nb= model_nb.bestModel\n",
        "bestmodel_ = bp_nb.stages[-1]\n",
        "bestparam_nb= bestmodel_.extractParamMap()\n",
        "bestparam_nb"
      ],
      "execution_count": null,
      "outputs": [
        {
          "output_type": "execute_result",
          "data": {
            "text/plain": [
              "{Param(parent='NaiveBayes_779fc3e945da', name='featuresCol', doc='features column name'): 'Scaled_features',\n",
              " Param(parent='NaiveBayes_779fc3e945da', name='labelCol', doc='label column name'): 'Target',\n",
              " Param(parent='NaiveBayes_779fc3e945da', name='modelType', doc='The model type which is a string (case-sensitive). Supported options: multinomial (default) and bernoulli.'): 'multinomial',\n",
              " Param(parent='NaiveBayes_779fc3e945da', name='predictionCol', doc='prediction column name'): 'prediction',\n",
              " Param(parent='NaiveBayes_779fc3e945da', name='probabilityCol', doc='Column name for predicted class conditional probabilities. Note: Not all models output well-calibrated probability estimates! These probabilities should be treated as confidences, not precise probabilities'): 'probability',\n",
              " Param(parent='NaiveBayes_779fc3e945da', name='rawPredictionCol', doc='raw prediction (a.k.a. confidence) column name'): 'rawPrediction',\n",
              " Param(parent='NaiveBayes_779fc3e945da', name='smoothing', doc='The smoothing parameter.'): 1.0}"
            ]
          },
          "metadata": {
            "tags": []
          },
          "execution_count": 81
        }
      ]
    },
    {
      "cell_type": "markdown",
      "metadata": {
        "id": "cB9rg5i5iojz",
        "colab_type": "text"
      },
      "source": [
        "#Decison Tree Classifier"
      ]
    },
    {
      "cell_type": "code",
      "metadata": {
        "id": "POmYEia5SfBc",
        "colab_type": "code",
        "colab": {
          "base_uri": "https://localhost:8080/",
          "height": 235
        },
        "outputId": "fd6142da-eeeb-4615-c821-c2fc361b8974"
      },
      "source": [
        "#define decision tree model\n",
        "\n",
        "Dtc=DecisionTreeClassifier().setLabelCol(\"Target\").setFeaturesCol(\"Scaled_features\")\n",
        "pipeline = Pipeline(stages=[Dtc])\n",
        "\n",
        "paramGrid_dt = ParamGridBuilder() \\\n",
        "     .addGrid(Dtc.maxDepth, [5, 7]) \\\n",
        "     .addGrid(Dtc.maxBins, [10,20]) \\\n",
        "     .build()\n",
        "evaluator = MulticlassClassificationEvaluator().setLabelCol(\"Target\")\n",
        "crossval_dt = CrossValidator(estimator=pipeline,\n",
        "                              estimatorParamMaps=paramGrid_dt,\n",
        "                              evaluator=evaluator,\n",
        "                              numFolds=5)\n",
        "\n",
        "model_dt = crossval_dt.fit(train_data)\n",
        "\n",
        "\n",
        "predict_test_dt=model_dt.transform(test_data)\n",
        "predict_test_dt= predict_test_dt.select(\"Target\",\"prediction\")\n",
        "predict_test_dt.show(5)\n",
        "print(\"Accuracy:\")\n",
        "evaluator.evaluate(predict_test_dt)"
      ],
      "execution_count": null,
      "outputs": [
        {
          "output_type": "stream",
          "text": [
            "+------+----------+\n",
            "|Target|prediction|\n",
            "+------+----------+\n",
            "|     2|       2.0|\n",
            "|     2|       2.0|\n",
            "|     0|       0.0|\n",
            "|     0|       0.0|\n",
            "|     2|       2.0|\n",
            "+------+----------+\n",
            "only showing top 5 rows\n",
            "\n",
            "Accuracy:\n"
          ],
          "name": "stdout"
        },
        {
          "output_type": "execute_result",
          "data": {
            "text/plain": [
              "0.8142460827338078"
            ]
          },
          "metadata": {
            "tags": []
          },
          "execution_count": 79
        }
      ]
    },
    {
      "cell_type": "code",
      "metadata": {
        "id": "dbEYQxLst0eD",
        "colab_type": "code",
        "colab": {
          "base_uri": "https://localhost:8080/",
          "height": 272
        },
        "outputId": "8dc8608b-a4df-4aea-c291-e62253105364"
      },
      "source": [
        "bp= model_dt.bestModel\n",
        "bestmodel_dt = bp.stages[-1]\n",
        "bestparam= bestmodel_dt.extractParamMap()\n",
        "bestparam"
      ],
      "execution_count": null,
      "outputs": [
        {
          "output_type": "execute_result",
          "data": {
            "text/plain": [
              "{Param(parent='DecisionTreeClassifier_157e63636cf0', name='cacheNodeIds', doc='If false, the algorithm will pass trees to executors to match instances with nodes. If true, the algorithm will cache node IDs for each instance. Caching can speed up training of deeper trees.'): False,\n",
              " Param(parent='DecisionTreeClassifier_157e63636cf0', name='checkpointInterval', doc='set checkpoint interval (>= 1) or disable checkpoint (-1). E.g. 10 means that the cache will get checkpointed every 10 iterations. Note: this setting will be ignored if the checkpoint directory is not set in the SparkContext'): 10,\n",
              " Param(parent='DecisionTreeClassifier_157e63636cf0', name='featuresCol', doc='features column name'): 'Scaled_features',\n",
              " Param(parent='DecisionTreeClassifier_157e63636cf0', name='impurity', doc='Criterion used for information gain calculation (case-insensitive). Supported options: entropy, gini'): 'gini',\n",
              " Param(parent='DecisionTreeClassifier_157e63636cf0', name='labelCol', doc='label column name'): 'Target',\n",
              " Param(parent='DecisionTreeClassifier_157e63636cf0', name='maxBins', doc='Max number of bins for discretizing continuous features.  Must be >=2 and >= number of categories for any categorical feature.'): 10,\n",
              " Param(parent='DecisionTreeClassifier_157e63636cf0', name='maxDepth', doc='Maximum depth of the tree. (>= 0) E.g., depth 0 means 1 leaf node; depth 1 means 1 internal node + 2 leaf nodes.'): 7,\n",
              " Param(parent='DecisionTreeClassifier_157e63636cf0', name='maxMemoryInMB', doc='Maximum memory in MB allocated to histogram aggregation.'): 256,\n",
              " Param(parent='DecisionTreeClassifier_157e63636cf0', name='minInfoGain', doc='Minimum information gain for a split to be considered at a tree node.'): 0.0,\n",
              " Param(parent='DecisionTreeClassifier_157e63636cf0', name='minInstancesPerNode', doc='Minimum number of instances each child must have after split.  If a split causes the left or right child to have fewer than minInstancesPerNode, the split will be discarded as invalid. Should be >= 1.'): 1,\n",
              " Param(parent='DecisionTreeClassifier_157e63636cf0', name='predictionCol', doc='prediction column name'): 'prediction',\n",
              " Param(parent='DecisionTreeClassifier_157e63636cf0', name='probabilityCol', doc='Column name for predicted class conditional probabilities. Note: Not all models output well-calibrated probability estimates! These probabilities should be treated as confidences, not precise probabilities'): 'probability',\n",
              " Param(parent='DecisionTreeClassifier_157e63636cf0', name='rawPredictionCol', doc='raw prediction (a.k.a. confidence) column name'): 'rawPrediction',\n",
              " Param(parent='DecisionTreeClassifier_157e63636cf0', name='seed', doc='random seed'): 6544945839225568629}"
            ]
          },
          "metadata": {
            "tags": []
          },
          "execution_count": 82
        }
      ]
    }
  ]
}